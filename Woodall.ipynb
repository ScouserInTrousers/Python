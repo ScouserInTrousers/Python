{
 "cells": [
  {
   "cell_type": "markdown",
   "metadata": {},
   "source": [
    "# Woodall Numbers\n",
    "A [Woodall number](https://en.wikipedia.org/wiki/Woodall_number) is an integer, $W$, that satisfies $k2^{k}-1=W\\in\\mathbb{Z}^+$ for some $k\\in\\mathbb{Z}^+$. The OEIS number for the sequence of Woodall numbers is [A003261](https://oeis.org/A003261).\n",
    "## Determining whether $z\\in\\mathbb{Z}^+$ Is a Woodall\n",
    "Given a candidate, $z\\in\\mathbb{Z}^+$, it is simple to determine whether $z$ is a Woodall, requiring only incrementing the value of $k$ in a trial-and-error approach. This can become computationally infeasible as $z$ grows, however.\n",
    "\n",
    "This notebook will show that there is an upper bound in the search range of $k$ and it will show how to implement it in Python– with _no_ modules imported, at that! "
   ]
  },
  {
   "cell_type": "markdown",
   "metadata": {},
   "source": [
    "## The Code\n",
    "The following function will return a Boolean corresponding to whether the input, `z`, is a Woodall number.\n",
    "```python\n",
    "def is_woodall(z):\n",
    "    \"\"\" Is there an int, k, such that\n",
    "    `z` = k * 2**k - 1?\n",
    "    \"\"\"\n",
    "    if z < 1:\n",
    "        return False\n",
    "    w = z + 1\n",
    "    woodall = lambda k, w=w: k * 2 ** k == w\n",
    "    range_of_k_to_check = range(1, 4) if z < 64 else \\\n",
    "        range(1, int(pow(w, 1/3)) + 1)  # 1,..., floor of cube root of z + 1\n",
    "    return any(map(woodall, range_of_k_to_check))\n",
    "```\n",
    "### Demonstration\n",
    "Take the first, say, 100 integers, as arguments to the function. Only 1, 7, 23, and 63 should return `True`:\n",
    "```python\n",
    ">>> woodalls = {1, 7, 23, 63}\n",
    ">>> not any(is_woodall(z) for z in set(range(100)) - woodalls)\n",
    "True\n",
    "\n",
    ">>> all(is_woodall(z) for z in woodalls)\n",
    "True\n",
    "```\n",
    "_**Note**_: As with any Python code, unit tests should be included. These can be found below.\n",
    "### Explanation\n",
    "There are a few talking points around `is_woodall`, especially the `range_of_k_to_check` for input greater than 63.\n",
    "1. Woodall numbers start with 1, thus any `z` smaller is not Woodall\n",
    "2. It is computationally more efficient to check against a variable that has the 1 added than to check if `(k*2**k)-1` is Woodall for every `k`\n",
    "3. The `woodall` function uses Python's inline function definition syntax, `lambda`, to create a function that returns a Boolean for every `k` and `w` that are passed to it. By specifying `lambda k, w=w:`, `w` in the scope of `is_woodall` is \"pinned\" in the scope of `woodall`, just as if it were a normal function definition; i.e. `def woodall(k, w=w):`\n",
    "4. Why is 64 a special value of `w`? The table below, and the proof in the subsequent section, will justify the splitting up of `k`s to check\n",
    "5. Python's `any` function utilizes [short-circuit evaluation](https://en.wikipedia.org/wiki/Short-circuit_evaluation), meaning that the first element of the argument that is truthy will cause the `return`ing of `True` before all of `range_of_k_to_check` is evaluated. Furthermore, the `map` object produced by this call is lazily-evaluated, conserving memory due to a potentially large range of `int`s\n",
    "6. Lastly, if `range_of_k_to_check` takes the `else` branch in the ternary expression, `1` is added to the second argument of `range` so that the value `int(pow(w, 1/3))` itself is an element of the `range` object"
   ]
  },
  {
   "cell_type": "markdown",
   "metadata": {},
   "source": [
    "## The Math\n",
    "When first approaching the problem of determining the Woodallity of a given integer, $W$, the natural approach is to start with a small value of $k$, calculate $k2^{k}-1$ and increase $k$ if this calculation does not yield $W$. This is straightforward, and it is an exhaustive algorithm because as soon as the value $k2^{k}-1$ exceeds $W$, it is established that $W$ is not Woodall (due to $f(k)=k$ and $g(k) = 2^k$ being monotone increasing functions). However, there is a better way.\n",
    "\n",
    "### The Proposition\n",
    "The reduction of the search space of $k$ claimed by the `is_woodall` function is the following:\n",
    "$$\\text{Given} \\ 63 \\leq W \\in \\mathbb{Z},\\ \\exists k\\in\\mathbb{Z}^+ \\text{such that} \\ W=k2^{k}-1\\implies k \\leq \\sqrt[3]{W+1}$$\n",
    "i.e. that an algorithm checking for Woodallity need only try values of $k$ up to the cube root of one more than the candidate, $W$.\n",
    "\n",
    "### The Intuition\n",
    "Tabulating the first few values of $k$ and the $W$ that they would produce, it turns out that for every $k$ in the table _except_ $k=3$, $k^3 \\leq w$ (where $w$ is equal to $W+1$)\n",
    "\n",
    "| $k$ | $k^3$ | $w$ | $W$ |\n",
    "|---|------|------|------|\n",
    "| 1 | 1  | 2  | 1  |\n",
    "| 2 | 8  | 8  | 7  |\n",
    "| 3 | 27 | 24 | 23 |\n",
    "| 4 | 64 | 64 | 63 |\n",
    "| 5 | 125 | 160 | 159 |\n",
    "| 6 | 136 | 384 | 383 |\n",
    "\n",
    "This is why `is_woodall` changes search behavior at 64: for every $k \\geq 4$, $k^3 > w$, with equality for $k=4$. For a given $W$, therefore, one only need search up to $\\lfloor\\sqrt[3]{W+1}\\rfloor$ \n",
    "\n",
    "### The Proof\n",
    "The proof of the above proposition relies on the following lemma.\n",
    "#### The Lemma\n",
    "$$\\forall k \\in \\mathbb{N}\\backslash\\{0,1,2,3\\}, \\ \\ k^2 \\leq 2^k$$"
   ]
  },
  {
   "cell_type": "code",
   "execution_count": 36,
   "metadata": {},
   "outputs": [
    {
     "data": {
      "text/latex": [
       "\\begin{align}\n",
       "Proof:\n",
       "    \\text{Assume that } \\ 2^k \\geq k^2 \\ \\text{for} \\ k \\geq 4. \\ \\text{The base case is:} \\ 2^4 = 16 \\geq 16 = 4^2. \\text{Then,} \\\\\n",
       "    \\ 2^k &\\geq k^2 \\\\\n",
       "    \\implies 2(2^{k}) &\\geq 2k^2 \\\\\n",
       "    \\implies 2^{k+1} &\\geq 2k^2 \\geq k^2 + 2k + 1 \\ \\ \\ \\ \\ \\ \\ \\ \\ \\ \\star \\\\\n",
       "    \\implies 2^{k+1} &\\geq k^2 + 2k + 1 = (k+1)^2 \\\\\n",
       "    \n",
       "\\text{completing the induction step. Justification of} \\ \\star \\text{is available in the appendix}\n",
       "\\end{align}"
      ],
      "text/plain": [
       "<IPython.core.display.Latex object>"
      ]
     },
     "metadata": {},
     "output_type": "display_data"
    }
   ],
   "source": [
    "%%latex\n",
    "\\begin{align}\n",
    "Proof:\n",
    "    \\text{Assume that } \\ 2^k \\geq k^2 \\ \\text{for} \\ k \\geq 4. \\ \\text{The base case is:} \\ 2^4 = 16 \\geq 16 = 4^2. \\text{Then,} \\\\\n",
    "    \\ 2^k &\\geq k^2 \\\\\n",
    "    \\implies 2(2^{k}) &\\geq 2k^2 \\\\\n",
    "    \\implies 2^{k+1} &\\geq 2k^2 \\geq k^2 + 2k + 1 \\ \\ \\ \\ \\ \\ \\ \\ \\ \\ \\star \\\\\n",
    "    \\implies 2^{k+1} &\\geq k^2 + 2k + 1 = (k+1)^2 \\\\\n",
    "    \n",
    "\\text{completing the induction step. Justification of} \\ \\star \\text{is available in the appendix}\n",
    "\\end{align}"
   ]
  },
  {
   "cell_type": "markdown",
   "metadata": {},
   "source": [
    "#### Proof of the Proposition\n",
    "This proof does not proceed via induction, but by [direct proof](https://en.wikipedia.org/wiki/Direct_proof)"
   ]
  },
  {
   "cell_type": "code",
   "execution_count": 64,
   "metadata": {},
   "outputs": [
    {
     "data": {
      "text/latex": [
       "\\begin{align}\n",
       "Proof:\n",
       "    \\text{Put} \\ W\\geq 63, \\ \\text{and assume that} \\ \\exists k\\in\\mathbb{Z}^+ \\ \\text{such that} \\ W=k2^{k}-1. \\text{Then,} \\\\\n",
       "    k^2 &\\leq 2^k \\\\\n",
       "    \\implies k^3 &\\leq k2^k \\\\\n",
       "    \\implies k^3 - 1 &\\leq k2^{k} - 1 \\\\\n",
       "    \\implies k^3 - 1 &\\leq W \\\\\n",
       "    \\implies k &\\leq \\sqrt[3]{W+1} \\ \\ \\ \\ \\ \\ \\square\n",
       "\\end{align}"
      ],
      "text/plain": [
       "<IPython.core.display.Latex object>"
      ]
     },
     "metadata": {},
     "output_type": "display_data"
    }
   ],
   "source": [
    "%%latex\n",
    "\\begin{align}\n",
    "Proof:\n",
    "    \\text{Put} \\ W\\geq 63, \\ \\text{and assume that} \\ \\exists k\\in\\mathbb{Z}^+ \\ \\text{such that} \\ W=k2^{k}-1. \\text{Then,} \\\\\n",
    "    k^2 &\\leq 2^k \\\\\n",
    "    \\implies k^3 &\\leq k2^k \\\\\n",
    "    \\implies k^3 - 1 &\\leq k2^{k} - 1 \\\\\n",
    "    \\implies k^3 - 1 &\\leq W \\\\\n",
    "    \\implies k &\\leq \\sqrt[3]{W+1} \\ \\ \\ \\ \\ \\ \\square\n",
    "\\end{align}"
   ]
  },
  {
   "cell_type": "markdown",
   "metadata": {},
   "source": [
    "## Testing\n",
    "Testing properties of an infinite set with finite hardware is challenging, but with the combination of a source of authority (On-line Encyclopedia for Integer Sequences) and the naive algorithm (using this just passes the buck of testing), it is possible to be reasonably sure that `is_woodall` is implemented correctly. This is because the [`hypothesis`](https://hypothesis.readthedocs.io/en/latest/) Python package implements [property-based tests](https://hypothesis.works/articles/what-is-property-based-testing/). By using the `@given` decorators in the tests below, `hypothesis` will run a test suite of inputs through `is_woodall` that aims to capture the various edge cases of the given input type. From the documentation,\n",
    ">Hypothesis doesn’t just find any counter-example to your tests, it knows how to simplify the examples it finds to produce small easy to understand ones.\n",
    "\n",
    "Thus, there are two tests below. The first, `test_woodall_1`, does a set lookup on the published Woodall numbers on the [OEIS entry](https://oeis.org/A003261) for the Woodall numbers. If this test passes, it is an indication that the logic of `is_woodall` holds for small input values. The second test relies on `naive_is_woodall` to assert the Woodallity of the `int`s generated by `hypothesis.strategies.integers`. This test does not have a `max_value` set in the strategy passed to `hypothesis`, so that it can test the full range of `int`s that Python handles. This test takes a considerable amount of time: However, that both tests pass is a strong indication that `is_woodall` passes muster. "
   ]
  },
  {
   "cell_type": "code",
   "execution_count": null,
   "metadata": {},
   "outputs": [],
   "source": [
    "from hypothesis import given, strategies as st\n",
    "\n",
    "def naive_is_woodall(z):\n",
    "    \"\"\"An implementation of the \"naive\" \n",
    "    algorithm to determine Woodallity of z\"\"\"\n",
    "    k = 1\n",
    "    w = z + 1\n",
    "    candidate = k*2**k\n",
    "    while candidate <= w:\n",
    "        if w == candidate:\n",
    "            return True\n",
    "        k += 1\n",
    "        candidate = k*2**k\n",
    "        continue\n",
    "    else:\n",
    "        return False\n",
    "\n",
    "@given(st.integers(max_value=7.6e9))\n",
    "def test_is_woodall_1(z):\n",
    "    woodalls = \\\n",
    "    {1, 7, 23, 63, 159, 383, 895, \n",
    "     2047, 4607, 10239, 22527, \n",
    "     49151, 106495, 229375, 491519,\n",
    "     1048575, 2228223, 4718591, \n",
    "     9961471, 20971519, 44040191, \n",
    "     92274687, 192937983, 402653183, \n",
    "     838860799, 1744830463, 3623878655, 7516192767}\n",
    "    if z not in woodalls:\n",
    "        assert not is_woodall(z)\n",
    "    else:\n",
    "        assert is_woodall(z)\n",
    "      \n",
    "@given(st.integers())\n",
    "def test_is_woodall_2(z):\n",
    "    if z < 1:\n",
    "        assert not is_woodall(z)\n",
    "    if naive_is_woodall(z):\n",
    "        assert is_woodall(z)\n",
    "    else:\n",
    "        assert not is_woodall(z)"
   ]
  },
  {
   "cell_type": "markdown",
   "metadata": {},
   "source": [
    "# Appendix\n",
    "The statement denoted by ($\\star$) in the proof of the lemma above is more formally stated as:\n",
    "$$\\forall n\\in\\mathbb{N}\\backslash\\{0,1,2\\}, \\ \\ 2n^2 \\geq n^2 + 2n + 1$$"
   ]
  },
  {
   "cell_type": "code",
   "execution_count": 63,
   "metadata": {},
   "outputs": [
    {
     "data": {
      "text/latex": [
       "\\begin{align}\n",
       "Proof: \\text{Put} \\ n \\geq 3. \\ \\text{Then,} \\\\\n",
       "    n &\\geq \\sqrt{2} + 1 \\\\\n",
       "    \\implies n-1 &\\geq \\sqrt{2} \\\\\n",
       "    \\implies (n-1)^2 &\\geq 2 \\\\\n",
       "    \\implies (n-1)^2 -1 &\\geq 1 \\\\\n",
       "    \\implies n^2-2n-1 &\\geq 0 \\\\\n",
       "    \\implies n^2 &\\geq 2n + 1 \\\\\n",
       "    \\implies 2n^2 &\\geq n^2 + 2n + 1 \\ \\ \\ \\square\n",
       "\\end{align}"
      ],
      "text/plain": [
       "<IPython.core.display.Latex object>"
      ]
     },
     "metadata": {},
     "output_type": "display_data"
    }
   ],
   "source": [
    "%%latex\n",
    "\\begin{align}\n",
    "Proof: \\text{Put} \\ n \\geq 3. \\ \\text{Then,} \\\\\n",
    "    n &\\geq \\sqrt{2} + 1 \\\\\n",
    "    \\implies n-1 &\\geq \\sqrt{2} \\\\\n",
    "    \\implies (n-1)^2 &\\geq 2 \\\\\n",
    "    \\implies (n-1)^2 -1 &\\geq 1 \\\\\n",
    "    \\implies n^2-2n-1 &\\geq 0 \\\\\n",
    "    \\implies n^2 &\\geq 2n + 1 \\\\\n",
    "    \\implies 2n^2 &\\geq n^2 + 2n + 1 \\ \\ \\ \\square\n",
    "\\end{align}"
   ]
  }
 ],
 "metadata": {
  "kernelspec": {
   "display_name": "Integer 3",
   "language": "python",
   "name": "pythonic_integer"
  },
  "language_info": {
   "codemirror_mode": {
    "name": "ipython",
    "version": 3
   },
   "file_extension": ".py",
   "mimetype": "text/x-python",
   "name": "python",
   "nbconvert_exporter": "python",
   "pygments_lexer": "ipython3",
   "version": "3.6.5"
  }
 },
 "nbformat": 4,
 "nbformat_minor": 2
}
